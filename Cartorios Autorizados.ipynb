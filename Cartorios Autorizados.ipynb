{
 "cells": [
  {
   "cell_type": "code",
   "execution_count": 1,
   "metadata": {
    "collapsed": false
   },
   "outputs": [],
   "source": [
    "try:\n",
    "    import requests\n",
    "except ImportError:\n",
    "    print('Please install \"requests\" module: pip install requests')\n",
    "    raise\n",
    "\n",
    "import csv\n",
    "import traceback"
   ]
  },
  {
   "cell_type": "code",
   "execution_count": 2,
   "metadata": {
    "collapsed": true
   },
   "outputs": [],
   "source": [
    "def GET(*args, **kwargs):\n",
    "    hdrs = kwargs.setdefault('headers', {})\n",
    "    hdrs['User-Agent'] = 'github.com/denilsonsa/cartorios-autorizados-apostila'\n",
    "    return requests.get(*args, **kwargs)"
   ]
  },
  {
   "cell_type": "code",
   "execution_count": 3,
   "metadata": {
    "collapsed": true
   },
   "outputs": [],
   "source": [
    "BASE = 'http://www.cnj.jus.br/seiapostila/controle.php?'\n",
    "\n",
    "def get_states():\n",
    "    r = GET(BASE + 'action=estado')\n",
    "    data = r.json()\n",
    "    return data\n",
    "\n",
    "def get_cities(state_id):\n",
    "    r = GET(BASE + 'action=cidade&idEstado={0}'.format(state_id))\n",
    "    data = r.json()\n",
    "    return data\n",
    "\n",
    "def get_offices(city_id):\n",
    "    r = GET(BASE + 'action=unidade&idCidade={0}'.format(city_id))\n",
    "    data = r.json()\n",
    "    return data\n",
    "\n",
    "def get_office_details(office_id):\n",
    "    r = GET('http://www.cnj.jus.br/corregedoria/justica_aberta/?' +\n",
    "            'd=consulta_extra&a=consulta_extra&f=seiApostila&cns={0}'.format(office_id))\n",
    "    data = r.json()\n",
    "    return data"
   ]
  },
  {
   "cell_type": "code",
   "execution_count": 4,
   "metadata": {
    "collapsed": true
   },
   "outputs": [],
   "source": [
    "def get_all_office_details():\n",
    "    for state in get_states():\n",
    "        # state has this format:\n",
    "        # {\"id\":\"1\",\"sigla\":\"RO\",\"estado\":\"Rond\\u00f4nia\"}\n",
    "        for city in get_cities(state['id']):\n",
    "            # city has this format:\n",
    "            # {\"id\":\"17\",\"sigla\":\"17\",\"cidade\":\"Porto Velho\"}\n",
    "            print('Parsing {0} - {1}'.format(state['estado'], city['cidade']))\n",
    "            for office in get_offices(city['id']):\n",
    "                # office has this format:\n",
    "                # {\"cns\":\"000786\",\"cartorio\":\"2\\u00ba Tabelionato de Notas\"}\n",
    "                details = None\n",
    "                try:\n",
    "                    details = get_office_details(office['cns'])\n",
    "                    # details has this format:\n",
    "                    # {\n",
    "                    #    \"CNS\" : \"00.078-6\",\n",
    "                    #    \"COD_IDENTIFICACAO_UNICA\" : \"000786\",\n",
    "                    #    \"DAT_INSTALACAO\" : \"1966-08-12\",\n",
    "                    #    \"DSC_BAIRRO_SERVENTIA\" : \"Quinze\",\n",
    "                    #    \"DSC_CEP_SERVENTIA\" : \"69901230\",\n",
    "                    #    \"DSC_COMPLEMENTO\" : \"\",\n",
    "                    #    \"DSC_DENOMINACAO_SERVENTIA\" : \"2º Tabelionato de Notas\",\n",
    "                    #    \"DSC_DISTRITO\" : \"\",\n",
    "                    #    \"DSC_EMAIL_SERVENTIA\" : \"setan2rb@tj.ac.gov.br\",\n",
    "                    #    \"DSC_END_SERVENTIA\" : \"Boulevard Augusto Monteiro, n. 810\"\n",
    "                    #    \"DSC_SUB_DISTRITO\" : \"\",\n",
    "                    #    \"DS_CIDADE\" : \"RIO BRANCO\",\n",
    "                    #    \"FLG_STATUS\" : \"0\",\n",
    "                    #    \"IND_TIPO_SITUACAO\" : \"1\",\n",
    "                    #    \"IND_UF\" : \"AC\",\n",
    "                    #    \"NUM_CNPJ_SERVENTIA\" : \"05396544000138\",\n",
    "                    #    \"NUM_FAX_SERVENTIA\" : \"2147483647\",\n",
    "                    #    \"SEQ_DADOS_SERVENTIA\" : \"937\",\n",
    "                    #    \"atribuicoes\" : \"Notas\",\n",
    "                    #    \"decisao_atual\" : \"PROVIDO\",\n",
    "                    #    \"num_telefone_serventia\" : \"6832115497\",\n",
    "                    #    \"num_telefone_serventia_2\" : \"\",\n",
    "                    #    \"responsavel\" : \"Gilcineide Ribeiro Batista\",\n",
    "                    # }\n",
    "                    details['estado'] = state['estado']\n",
    "                    details['estado_id'] = state['id']\n",
    "                    details['estado_sigla'] = state['sigla']\n",
    "                    details['cidade'] = city['cidade']\n",
    "                    details['cidade_id'] = city['id']\n",
    "                    yield details\n",
    "                except:\n",
    "                    print('\\n'.join([\n",
    "                        'Ignoring an exception!',\n",
    "                        'state={0!r}',\n",
    "                        'city={1!r}',\n",
    "                        'office={2!r}',\n",
    "                        'details={3!r}',\n",
    "                        'exception={4}',\n",
    "                    ]).format(\n",
    "                        state, city, office, details, traceback.format_exc()\n",
    "                    ))"
   ]
  },
  {
   "cell_type": "code",
   "execution_count": 5,
   "metadata": {
    "collapsed": false
   },
   "outputs": [],
   "source": [
    "def write_csv_file(filename, rows):\n",
    "    with open(filename, 'w') as csvfile:\n",
    "        writer = None\n",
    "        for row in rows:\n",
    "            if writer is None:\n",
    "                fieldnames = sorted(row.keys())\n",
    "                writer = csv.DictWriter(\n",
    "                    csvfile, fieldnames, extrasaction='ignore'\n",
    "                )\n",
    "                writer.writeheader()\n",
    "            writer.writerow(row)"
   ]
  },
  {
   "cell_type": "code",
   "execution_count": 6,
   "metadata": {
    "collapsed": false,
    "scrolled": true
   },
   "outputs": [
    {
     "name": "stdout",
     "output_type": "stream",
     "text": [
      "Parsing Rondônia - Porto Velho\n",
      "Parsing Acre - Rio Branco\n",
      "Parsing Amazonas - Manaus\n",
      "Parsing Roraima - Boa Vista\n",
      "Parsing Pará - Belém\n",
      "Parsing Amapá - Macapá\n",
      "Parsing Tocantins - Palmas\n",
      "Parsing Maranhão - São Luís\n",
      "Parsing Piauí - Teresina\n",
      "Parsing Ceará - Fortaleza\n",
      "Parsing Rio Grande do Norte - Natal\n",
      "Parsing Paraíba - João Pessoa\n",
      "Parsing Pernambuco - Recife\n",
      "Parsing Alagoas - Maceió\n",
      "Parsing Sergipe - Aracaju\n",
      "Parsing Bahia - Salvador\n",
      "Parsing Minas Gerais - Belo Horizonte\n",
      "Parsing Espírito Santo - Vitória\n",
      "Parsing Rio de Janeiro - Rio de Janeiro\n",
      "Parsing São Paulo - São Paulo\n",
      "Parsing Paraná - Curitiba\n",
      "Parsing Santa Catarina - Florianópolis\n",
      "Parsing Rio Grande do Sul - Porto Alegre\n",
      "Ignoring an exception!\n",
      "state={'id': '23', 'estado': 'Rio Grande do Sul', 'sigla': 'RS'}\n",
      "city={'id': '4927', 'cidade': 'Porto Alegre', 'sigla': '4927'}\n",
      "office={'cns': 'TESTE', 'cartorio': 'Unidade de Teste'}\n",
      "details=None\n",
      "exception=Traceback (most recent call last):\n",
      "  File \"<ipython-input-4-7e2fd3e1a04d>\", line 41, in get_all_office_details\n",
      "    details['estado'] = state['estado']\n",
      "TypeError: 'NoneType' object does not support item assignment\n",
      "\n",
      "Parsing Mato Grosso do Sul - Campo Grande\n",
      "Parsing Mato Grosso - Cuiabá\n",
      "Parsing Goiás - Goiânia\n",
      "Parsing Distrito Federal - Brasília\n"
     ]
    }
   ],
   "source": [
    "write_csv_file('cartorios-autorizados-apostila.csv', get_all_office_details())"
   ]
  }
 ],
 "metadata": {
  "kernelspec": {
   "display_name": "Python 3",
   "language": "python",
   "name": "python3"
  },
  "language_info": {
   "codemirror_mode": {
    "name": "ipython",
    "version": 3
   },
   "file_extension": ".py",
   "mimetype": "text/x-python",
   "name": "python",
   "nbconvert_exporter": "python",
   "pygments_lexer": "ipython3",
   "version": "3.5.2"
  }
 },
 "nbformat": 4,
 "nbformat_minor": 1
}
